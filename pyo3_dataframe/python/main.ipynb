{
 "cells": [
  {
   "cell_type": "code",
   "execution_count": null,
   "metadata": {},
   "outputs": [],
   "source": [
    "from pyo3_dataframe import start_query\n",
    "import pandas as pd\n",
    "import polars as pl\n",
    "import plotly.express as px\n",
    "import plotly.graph_objects as go\n",
    "import io\n",
    "import logging"
   ]
  },
  {
   "cell_type": "code",
   "execution_count": null,
   "metadata": {},
   "outputs": [],
   "source": [
    "\n",
    "def setup_figure() -> go.FigureWidget:\n",
    "    fig = go.FigureWidget()\n",
    "    fig.add_bar()\n",
    "    fig.layout.title = \"average price for each fruit\"\n",
    "    fig.layout.xaxis.title = \"fruit\"\n",
    "    fig.layout.yaxis.title = \"average price\"\n",
    "    fig.layout.yaxis.type = \"log\"\n",
    "    return fig\n",
    "\n",
    "def update_figure(fig: go.FigureWidget, data: tuple[list[str], list[float]]) -> None:\n",
    "    fig.data[0].x = data[0]\n",
    "    fig.data[0].y = data[1] \n",
    "\n",
    "def df_transformer(result: str) -> tuple[list[str], list[float]]: \n",
    "    buf = io.StringIO(result)\n",
    "    df = pl.read_json(buf)\n",
    "    # pyarrow's dataframe has different structure than pandas's dataframe\n",
    "    # calling to_pandas to get pandas's dataframe\n",
    "    df = df.to_pandas()\n",
    "    \n",
    "    x = df[\"fruit\"].values\n",
    "    y = df[\"price\"].values\n",
    "\n",
    "    return (x, y)"
   ]
  },
  {
   "cell_type": "code",
   "execution_count": null,
   "metadata": {},
   "outputs": [],
   "source": [
    "class RustLogHandler(logging.Handler):\n",
    "    def emit(self, record):\n",
    "        # in Rust, I print out the query execution time \n",
    "        # to the standard output prepending the magic word 'CAFEBABE'\n",
    "        # log format:\n",
    "        # CAFEBABE query_num query_execution_time\n",
    "        if record.msg.startswith(\"CAFEBABE\"):\n",
    "            _, i, time = record.msg.split()\n",
    "            print(\"query\", i, \"execution time:\", time)\n",
    "\n",
    "\n",
    "logging.basicConfig(level=logging.INFO, handlers=[RustLogHandler()])"
   ]
  },
  {
   "cell_type": "code",
   "execution_count": null,
   "metadata": {
    "scrolled": true
   },
   "outputs": [],
   "source": [
    "fig = setup_figure()\n",
    "display(fig)\n",
    "\n",
    "result_consumer = start_query()\n",
    "for result in result_consumer:\n",
    "    df = df_transformer(result)\n",
    "    update_figure(fig, df)"
   ]
  }
 ],
 "metadata": {
  "kernelspec": {
   "display_name": ".venv",
   "language": "python",
   "name": "python3"
  },
  "language_info": {
   "codemirror_mode": {
    "name": "ipython",
    "version": 3
   },
   "file_extension": ".py",
   "mimetype": "text/x-python",
   "name": "python",
   "nbconvert_exporter": "python",
   "pygments_lexer": "ipython3",
   "version": "3.10.9"
  },
  "vscode": {
   "interpreter": {
    "hash": "c87f2c68f90dc2c5ad465f4eced5ddccd12a1225d7b3ee3f3a51abbcac0fc23e"
   }
  }
 },
 "nbformat": 4,
 "nbformat_minor": 2
}
